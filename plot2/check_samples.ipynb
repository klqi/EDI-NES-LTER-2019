{
 "cells": [
  {
   "cell_type": "code",
   "execution_count": 122,
   "metadata": {},
   "outputs": [],
   "source": [
    "import pandas as pd"
   ]
  },
  {
   "cell_type": "code",
   "execution_count": 123,
   "metadata": {},
   "outputs": [
    {
     "data": {
      "text/plain": [
       "187993"
      ]
     },
     "execution_count": 123,
     "metadata": {},
     "output_type": "execute_result"
    }
   ],
   "source": [
    "# check number of manual samples\n",
    "man_samples = pd.read_csv(\"man_ann_for_kqi.csv\")\n",
    "# len(man_samples['pid'].unique())\n",
    "len(man_samples['pid'])"
   ]
  },
  {
   "cell_type": "code",
   "execution_count": 124,
   "metadata": {},
   "outputs": [
    {
     "data": {
      "text/plain": [
       "223248"
      ]
     },
     "execution_count": 124,
     "metadata": {},
     "output_type": "execute_result"
    }
   ],
   "source": [
    "# check number of automated samples\n",
    "auto_samples = pd.read_csv(\"file_1b.csv\")\n",
    "# len(auto_samples['sample_identifier'].unique())\n",
    "len(auto_samples['sample_identifier'])"
   ]
  },
  {
   "cell_type": "code",
   "execution_count": 125,
   "metadata": {},
   "outputs": [
    {
     "name": "stdout",
     "output_type": "stream",
     "text": [
      "                                    sample_identifier  roi_number\n",
      "0   http://ifcb-data.whoi.edu/NESLTER_transect/D20...        2494\n",
      "1   http://ifcb-data.whoi.edu/NESLTER_transect/D20...        2390\n",
      "2   http://ifcb-data.whoi.edu/NESLTER_transect/D20...        2384\n",
      "3   http://ifcb-data.whoi.edu/NESLTER_transect/D20...        2110\n",
      "4   http://ifcb-data.whoi.edu/NESLTER_transect/D20...        1719\n",
      "5   http://ifcb-data.whoi.edu/NESLTER_transect/D20...        1828\n",
      "6   http://ifcb-data.whoi.edu/NESLTER_transect/D20...        1752\n",
      "7   http://ifcb-data.whoi.edu/NESLTER_transect/D20...        1960\n",
      "8   http://ifcb-data.whoi.edu/NESLTER_transect/D20...        1339\n",
      "9   http://ifcb-data.whoi.edu/NESLTER_transect/D20...        1168\n",
      "10  http://ifcb-data.whoi.edu/NESLTER_transect/D20...        2230\n",
      "11  http://ifcb-data.whoi.edu/NESLTER_transect/D20...        2625\n",
      "12  http://ifcb-data.whoi.edu/NESLTER_transect/D20...        2800\n",
      "13  http://ifcb-data.whoi.edu/NESLTER_transect/D20...        2660\n",
      "14  http://ifcb-data.whoi.edu/NESLTER_transect/D20...        2532\n",
      "15  http://ifcb-data.whoi.edu/NESLTER_transect/D20...        2422\n",
      "16  http://ifcb-data.whoi.edu/NESLTER_transect/D20...        2285\n",
      "17  http://ifcb-data.whoi.edu/NESLTER_transect/D20...        2080\n",
      "18  http://ifcb-data.whoi.edu/NESLTER_transect/D20...        2014\n",
      "19  http://ifcb-data.whoi.edu/NESLTER_transect/D20...        2025\n",
      "20  http://ifcb-data.whoi.edu/NESLTER_transect/D20...        1979\n",
      "21  http://ifcb-data.whoi.edu/NESLTER_transect/D20...        2011\n",
      "22  http://ifcb-data.whoi.edu/NESLTER_transect/D20...        2023\n",
      "23  http://ifcb-data.whoi.edu/NESLTER_transect/D20...        2030\n",
      "24  http://ifcb-data.whoi.edu/NESLTER_transect/D20...        2048\n",
      "25  http://ifcb-data.whoi.edu/NESLTER_transect/D20...        1875\n",
      "26  http://ifcb-data.whoi.edu/NESLTER_transect/D20...        2079\n",
      "27  http://ifcb-data.whoi.edu/NESLTER_transect/D20...        2301\n",
      "28  http://ifcb-data.whoi.edu/NESLTER_transect/D20...        2213\n",
      "29  http://ifcb-data.whoi.edu/NESLTER_transect/D20...        2136\n",
      "..                                                ...         ...\n",
      "64  http://ifcb-data.whoi.edu/NESLTER_transect/D20...        1780\n",
      "65  http://ifcb-data.whoi.edu/NESLTER_transect/D20...        1798\n",
      "66  http://ifcb-data.whoi.edu/NESLTER_transect/D20...        1772\n",
      "67  http://ifcb-data.whoi.edu/NESLTER_transect/D20...        1710\n",
      "68  http://ifcb-data.whoi.edu/NESLTER_transect/D20...        2129\n",
      "69  http://ifcb-data.whoi.edu/NESLTER_transect/D20...        2154\n",
      "70  http://ifcb-data.whoi.edu/NESLTER_transect/D20...        2128\n",
      "71  http://ifcb-data.whoi.edu/NESLTER_transect/D20...        2171\n",
      "72  http://ifcb-data.whoi.edu/NESLTER_transect/D20...        1917\n",
      "73  http://ifcb-data.whoi.edu/NESLTER_transect/D20...        2046\n",
      "74  http://ifcb-data.whoi.edu/NESLTER_transect/D20...        1979\n",
      "75  http://ifcb-data.whoi.edu/NESLTER_transect/D20...        2019\n",
      "76  http://ifcb-data.whoi.edu/NESLTER_transect/D20...        1954\n",
      "77  http://ifcb-data.whoi.edu/NESLTER_transect/D20...        1794\n",
      "78  http://ifcb-data.whoi.edu/NESLTER_transect/D20...        1571\n",
      "79  http://ifcb-data.whoi.edu/NESLTER_transect/D20...        1486\n",
      "80  http://ifcb-data.whoi.edu/NESLTER_transect/D20...        1705\n",
      "81  http://ifcb-data.whoi.edu/NESLTER_transect/D20...         337\n",
      "82  http://ifcb-data.whoi.edu/NESLTER_transect/D20...        1815\n",
      "83  http://ifcb-data.whoi.edu/NESLTER_transect/D20...        1790\n",
      "84  http://ifcb-data.whoi.edu/NESLTER_transect/D20...        2212\n",
      "85  http://ifcb-data.whoi.edu/NESLTER_transect/D20...        2187\n",
      "86  http://ifcb-data.whoi.edu/NESLTER_transect/D20...        2131\n",
      "87  http://ifcb-data.whoi.edu/NESLTER_transect/D20...        2052\n",
      "88  http://ifcb-data.whoi.edu/NESLTER_transect/D20...        2209\n",
      "89  http://ifcb-data.whoi.edu/NESLTER_transect/D20...        2416\n",
      "90  http://ifcb-data.whoi.edu/NESLTER_transect/D20...        2142\n",
      "91  http://ifcb-data.whoi.edu/NESLTER_transect/D20...        2426\n",
      "92  http://ifcb-data.whoi.edu/NESLTER_transect/D20...        2257\n",
      "93  http://ifcb-data.whoi.edu/NESLTER_transect/D20...        2224\n",
      "\n",
      "[94 rows x 2 columns]\n",
      "                         pid   roi\n",
      "0   D20180201T103729_IFCB102  2494\n",
      "1   D20180201T110037_IFCB102  2390\n",
      "2   D20180201T112345_IFCB102  2384\n",
      "3   D20180201T114755_IFCB102  2110\n",
      "4   D20180201T191037_IFCB102  1719\n",
      "5   D20180201T193325_IFCB102  1828\n",
      "6   D20180201T195614_IFCB102  1752\n",
      "7   D20180201T201903_IFCB102  1960\n",
      "8   D20180201T204151_IFCB102  1339\n",
      "9   D20180201T210440_IFCB102  1168\n",
      "10  D20180201T221306_IFCB102  2230\n",
      "11  D20180201T223555_IFCB102  2625\n",
      "12  D20180201T225844_IFCB102  2800\n",
      "13  D20180201T232132_IFCB102  2660\n",
      "14  D20180202T005247_IFCB102  2532\n",
      "15  D20180202T011536_IFCB102  2422\n",
      "16  D20180202T013825_IFCB102  2285\n",
      "17  D20180202T020114_IFCB102  2080\n",
      "18  D20180202T022403_IFCB102  2014\n",
      "19  D20180202T024651_IFCB102  2025\n",
      "20  D20180202T085151_IFCB102  1979\n",
      "21  D20180202T091440_IFCB102  2011\n",
      "22  D20180202T093729_IFCB102  2023\n",
      "23  D20180202T100018_IFCB102  2030\n",
      "24  D20180202T102306_IFCB102  2048\n",
      "25  D20180202T104555_IFCB102  1875\n",
      "26  D20180202T110844_IFCB102  2079\n",
      "27  D20180202T115422_IFCB102  2301\n",
      "28  D20180202T121710_IFCB102  2213\n",
      "29  D20180202T123959_IFCB102  2136\n",
      "..                       ...   ...\n",
      "64  D20180204T104837_IFCB102  1780\n",
      "65  D20180204T111058_IFCB102  1798\n",
      "66  D20180204T113319_IFCB102  1772\n",
      "67  D20180204T115540_IFCB102  1710\n",
      "68  D20180204T121802_IFCB102  2129\n",
      "69  D20180204T124023_IFCB102  2154\n",
      "70  D20180204T130244_IFCB102  2128\n",
      "71  D20180204T132506_IFCB102  2171\n",
      "72  D20180204T134727_IFCB102  1917\n",
      "73  D20180204T140948_IFCB102  2046\n",
      "74  D20180204T143210_IFCB102  1979\n",
      "75  D20180204T145431_IFCB102  2019\n",
      "76  D20180204T151652_IFCB102  1954\n",
      "77  D20180204T153914_IFCB102  1794\n",
      "78  D20180204T160135_IFCB102  1571\n",
      "79  D20180204T162356_IFCB102  1486\n",
      "80  D20180204T164617_IFCB102  1705\n",
      "81  D20180204T170839_IFCB102   337\n",
      "82  D20180204T173600_IFCB102   352\n",
      "83  D20180204T175821_IFCB102   344\n",
      "84  D20180204T182042_IFCB102   429\n",
      "85  D20180204T184304_IFCB102   354\n",
      "86  D20180204T190525_IFCB102   382\n",
      "87  D20180204T192746_IFCB102   410\n",
      "88  D20180204T195008_IFCB102   464\n",
      "89  D20180204T201229_IFCB102   493\n",
      "90  D20180204T203450_IFCB102   461\n",
      "91  D20180204T205712_IFCB102   566\n",
      "92  D20180204T211933_IFCB102   523\n",
      "93  D20180205T042420_IFCB102   446\n",
      "\n",
      "[94 rows x 2 columns]\n"
     ]
    }
   ],
   "source": [
    "# get total number of rois from automated samples\n",
    "auto_samples = auto_samples.groupby(['sample_identifier'])['roi_number'].count().reset_index()\n",
    "# get total number of rois from manual samples\n",
    "man_samples = man_samples.groupby(['pid'])['roi'].count().reset_index()\n",
    "print(auto_samples)\n",
    "print(man_samples)"
   ]
  },
  {
   "cell_type": "code",
   "execution_count": 130,
   "metadata": {},
   "outputs": [
    {
     "name": "stdout",
     "output_type": "stream",
     "text": [
      "There are 22 unfinished samples: \n",
      "                         pid   roi  complete\n",
      "48  D20180203T174012_IFCB102  1792  0.537331\n",
      "49  D20180203T180234_IFCB102  1715  0.528505\n",
      "50  D20180203T182455_IFCB102  1795  0.561815\n",
      "51  D20180203T184716_IFCB102  1865  0.562594\n",
      "52  D20180203T190938_IFCB102  1954  0.573525\n",
      "53  D20180203T193159_IFCB102  1961  0.581554\n",
      "54  D20180203T223051_IFCB102  1636  0.529450\n",
      "55  D20180203T225313_IFCB102  1617  0.517937\n",
      "56  D20180203T231534_IFCB102  1586  0.519830\n",
      "57  D20180203T233756_IFCB102  1460  0.509243\n",
      "82  D20180204T173600_IFCB102   352  0.193939\n",
      "83  D20180204T175821_IFCB102   344  0.192179\n",
      "84  D20180204T182042_IFCB102   429  0.193942\n",
      "85  D20180204T184304_IFCB102   354  0.161866\n",
      "86  D20180204T190525_IFCB102   382  0.179259\n",
      "87  D20180204T192746_IFCB102   410  0.199805\n",
      "88  D20180204T195008_IFCB102   464  0.210050\n",
      "89  D20180204T201229_IFCB102   493  0.204056\n",
      "90  D20180204T203450_IFCB102   461  0.215219\n",
      "91  D20180204T205712_IFCB102   566  0.233306\n",
      "92  D20180204T211933_IFCB102   523  0.231724\n",
      "93  D20180205T042420_IFCB102   446  0.200540\n"
     ]
    }
   ],
   "source": [
    "# see percent completions\n",
    "percent_samples['complete'] = man_samples['roi']/auto_samples['roi_number']\n",
    "print(\"There are {} unfinished samples: \".format(len(percent_samples[percent_samples['complete'] < 1.0])))\n",
    "print(percent_samples[percent_samples['complete'] < 1.0])"
   ]
  }
 ],
 "metadata": {
  "kernelspec": {
   "display_name": "Python 3",
   "language": "python",
   "name": "python3"
  },
  "language_info": {
   "codemirror_mode": {
    "name": "ipython",
    "version": 3
   },
   "file_extension": ".py",
   "mimetype": "text/x-python",
   "name": "python",
   "nbconvert_exporter": "python",
   "pygments_lexer": "ipython3",
   "version": "3.6.5"
  }
 },
 "nbformat": 4,
 "nbformat_minor": 2
}
