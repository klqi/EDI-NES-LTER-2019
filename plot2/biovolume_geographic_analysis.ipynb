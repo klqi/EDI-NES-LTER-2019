{
 "cells": [
  {
   "cell_type": "code",
   "execution_count": 34,
   "metadata": {},
   "outputs": [],
   "source": [
    "for name in dir():\n",
    "    if not name.startswith('_'):\n",
    "        del globals()[name]"
   ]
  },
  {
   "cell_type": "code",
   "execution_count": 35,
   "metadata": {},
   "outputs": [],
   "source": [
    "import pandas as pd\n",
    "import numpy as np\n",
    "import matplotlib.pyplot as plt\n",
    "import subprocess"
   ]
  },
  {
   "cell_type": "code",
   "execution_count": 36,
   "metadata": {},
   "outputs": [
    {
     "data": {
      "text/plain": [
       "0"
      ]
     },
     "execution_count": 36,
     "metadata": {},
     "output_type": "execute_result"
    }
   ],
   "source": [
    "# first call bash script to get necessary file inputs\n",
    "subprocess.call(['./exec.sh'])"
   ]
  },
  {
   "cell_type": "code",
   "execution_count": null,
   "metadata": {},
   "outputs": [],
   "source": [
    "# read in level 1_b file\n",
    "all_rois = pd.read_csv('file_1b.csv')\n",
    "# prompt user to ask for desired size distribution, keep at 20 for now\n",
    "threshold = input('Please enter minimum Major Axis Length to analyze (micrometers): ')\n",
    "threshold = float(threshold)"
   ]
  },
  {
   "cell_type": "code",
   "execution_count": null,
   "metadata": {},
   "outputs": [],
   "source": [
    "# read in gps coordinates file\n",
    "coords = pd.read_csv('comparison.csv', usecols=['pid', 'gps_furuno_latitude', 'gps_furuno_longitude'])\n",
    "# merge with all_rois based on smaple ids\n",
    "all_rois = pd.merge(all_rois, coords, how='left', left_on='sample_identifier', right_on='pid')"
   ]
  },
  {
   "cell_type": "code",
   "execution_count": null,
   "metadata": {},
   "outputs": [],
   "source": [
    "# filter out rows below threshold\n",
    "all_rois = all_rois[all_rois.MajorAxisLength > threshold]"
   ]
  },
  {
   "cell_type": "code",
   "execution_count": null,
   "metadata": {},
   "outputs": [],
   "source": [
    "# group by sample identifiers and higher ranks to calculate total biovolume per ranking\n",
    "rois = all_rois.groupby(\n",
    "    ['sample_identifier', 'resolved_higher_order_fromgnr']).agg(\n",
    "    {\n",
    "        'Biovolume': 'sum',\n",
    "        'gps_furuno_latitude': 'first'\n",
    "    }\n",
    ").reset_index()\n",
    "# calculate total biovolume per sample\n",
    "total = rois.groupby('sample_identifier')['Biovolume'].sum().reset_index()\n",
    "total.rename(columns={'Biovolume':'total_biovolume'}, inplace=True)\n",
    "# merge 2 data frames based on sample_identifier\n",
    "rois = pd.merge(rois, total, how='left', on='sample_identifier')\n",
    "# calculate percent biovolume\n",
    "rois['percent_biovolume'] = rois['Biovolume']/rois['total_biovolume']"
   ]
  },
  {
   "cell_type": "code",
   "execution_count": null,
   "metadata": {},
   "outputs": [],
   "source": [
    "# take duplicate latitudes and add their concentrations together\n",
    "fig, ax = plt.subplots(figsize=(15,7))\n",
    "# use unstack()\n",
    "rois = rois.groupby(['gps_furuno_latitude','resolved_higher_order_fromgnr']).sum()['percent_biovolume']\n",
    "rois.unstack().plot(ax=ax)\n",
    "# add titles and axes labels\n",
    "plt.xlabel('LTER Stations')\n",
    "plt.ylabel('% Biovolume in targets with Major Axis Length > {} micrometers'.format(threshold))\n",
    "plt.title('MVCO Phytoplankton Biovolume')\n",
    "plt.grid(True)\n",
    "# set stations as tick marks\n",
    "ax.set_xticks([41.1967, 41.03, 40.8633, 40.6967, 40.5133, 40.3633, 40.2267, 40.1367, 40.0983, 39.94, 39.7733])\n",
    "ax.set_xticklabels(np.arange(1,12))\n",
    "# set comments\n",
    "ax.text(41.1967, -0.15, \"Coast\", size = 15, ha = 'center')\n",
    "ax.text(39.7733, -0.15, \"Offshore\", size = 15, ha = 'center')\n",
    "# invert x axis\n",
    "ax.invert_xaxis()\n",
    "plt.show()"
   ]
  }
 ],
 "metadata": {
  "kernelspec": {
   "display_name": "Python 3",
   "language": "python",
   "name": "python3"
  },
  "language_info": {
   "codemirror_mode": {
    "name": "ipython",
    "version": 3
   },
   "file_extension": ".py",
   "mimetype": "text/x-python",
   "name": "python",
   "nbconvert_exporter": "python",
   "pygments_lexer": "ipython3",
   "version": "3.6.5"
  }
 },
 "nbformat": 4,
 "nbformat_minor": 2
}
