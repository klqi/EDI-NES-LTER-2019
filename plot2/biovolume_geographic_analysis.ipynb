{
 "cells": [
  {
   "cell_type": "code",
   "execution_count": 1,
   "metadata": {},
   "outputs": [],
   "source": [
    "import pandas as pd\n",
    "import numpy as np\n",
    "import matplotlib.pyplot as plt\n",
    "import matplotlib.colors as cl\n",
    "import subprocess\n",
    "import os\n",
    "from os import path\n",
    "from datetime import datetime"
   ]
  },
  {
   "cell_type": "markdown",
   "metadata": {},
   "source": [
    "### Same prompt"
   ]
  },
  {
   "cell_type": "code",
   "execution_count": 175,
   "metadata": {},
   "outputs": [
    {
     "name": "stdout",
     "output_type": "stream",
     "text": [
      "Please enter 'manual', 'automated', or 'both' for the type of data set you are processing: automated\n"
     ]
    }
   ],
   "source": [
    "# Prompt user for manual or automated argument\n",
    "while (True):\n",
    "    dataset_type = str(input(\"Please enter 'manual', 'automated', or 'both' for the type of data set you are processing: \"))\n",
    "    # make case insenstive\n",
    "    dataset_type = dataset_type.lower()\n",
    "    if (dataset_type == \"manual\" or dataset_type == \"automated\" or dataset_type == 'both'):\n",
    "        break\n",
    "    print(\"Invalid argument\")"
   ]
  },
  {
   "cell_type": "code",
   "execution_count": 331,
   "metadata": {},
   "outputs": [
    {
     "name": "stdout",
     "output_type": "stream",
     "text": [
      "1: Bacillariophyceae\n",
      "2: Dinoflagellata\n",
      "3: Haptophyta\n",
      "4: other than diatoms dinoflagellates or haptophytes\n",
      "5: All\n",
      "6: All but other\n",
      "Please enter a number (1-6) for the type analysis: 1\n"
     ]
    }
   ],
   "source": [
    "# Prompt user for type of analsyis\n",
    "while (True):\n",
    "    options = [\"Bacillariophyceae\", \"Dinoflagellata\", \"Haptophyta\",\n",
    "               \"other than diatoms dinoflagellates or haptophytes\", \"All\", \"All but other\"]\n",
    "    # Print out options\n",
    "    for i in range(len(options)):\n",
    "        print(str(i+1) + \":\", options[i])\n",
    "    analysis_type = int(input(\"Please enter a number (1-6) for the type analysis: \"))\n",
    "    if (analysis_type in range(1,7)):\n",
    "        analysis_type = str(options[analysis_type-1])\n",
    "        break\n",
    "    print(\"Invalid argument\")"
   ]
  },
  {
   "cell_type": "code",
   "execution_count": 332,
   "metadata": {},
   "outputs": [],
   "source": [
    "# # Ask user if running analysis on a new cruise\n",
    "# while (True):\n",
    "#     reply = str(input('Are you running the analysis on a new cruise? (y/n): ')).lower().strip()\n",
    "#     if reply[0] == 'y':\n",
    "#         break\n",
    "#     if reply[0] == 'n':\n",
    "#         break\n",
    "#     else:\n",
    "#         print(\"Please enter y/n\")"
   ]
  },
  {
   "cell_type": "code",
   "execution_count": 333,
   "metadata": {},
   "outputs": [],
   "source": [
    "# # first call bash script to get necessary file inputs\n",
    "# # for geographic script, choose query_samples for underway gps data alignment as input script\n",
    "# # for worms script, choose names_ids.csv for input script\n",
    "# # only call if files don't exist or calling on new cruise data so program doesn't need to take full time to run\n",
    "# if ( not reply[0] != 'y'):\n",
    "#     subprocess.call(['./exec.sh', reply[0]])"
   ]
  },
  {
   "cell_type": "code",
   "execution_count": 334,
   "metadata": {},
   "outputs": [],
   "source": [
    "# read different columns based on dataset type\n",
    "if (dataset_type == 'manual'):\n",
    "    columns = ['associatedMedia', 'data_provider_category_HumanObservation', \n",
    "               'higherClassification_group', 'scientificName_HumanObservation',\n",
    "               'Biovolume', 'maxFeretDiameter']\n",
    "elif (dataset_type == 'automated'):\n",
    "    columns = ['associatedMedia', 'data_provider_category_MachineObservation', 'maxFeretDiameter',\n",
    "              'minFeretDiameter', 'Area', 'Biovolume']\n",
    "else:\n",
    "    columns = ['associatedMedia', 'data_provider_category_HumanObservation', \n",
    "               'data_provider_category_MachineObservation', 'higherClassification_group', \n",
    "               'scientificName_HumanObservation','Biovolume', 'maxFeretDiameter']"
   ]
  },
  {
   "cell_type": "markdown",
   "metadata": {},
   "source": [
    "### Matching code"
   ]
  },
  {
   "cell_type": "code",
   "execution_count": 335,
   "metadata": {},
   "outputs": [],
   "source": [
    "# read in level 1_b file\n",
    "sample_subset = pd.read_csv('../auto_join/level_1b.csv', usecols=columns)"
   ]
  },
  {
   "cell_type": "code",
   "execution_count": 336,
   "metadata": {},
   "outputs": [
    {
     "name": "stdout",
     "output_type": "stream",
     "text": [
      "1: Max threshold: <\n",
      "2: Min threshold: >\n",
      "Please enter a number (1 or 2) to choose comparison operator: 1\n",
      "\n",
      "\n",
      "1: maxFeretDiameter\n",
      "2: minFeretDiameter\n",
      "3: Area\n",
      "4: Biovolume\n",
      "Please enter a number (1-4) for the type analysis: 2\n",
      "\n",
      "\n",
      "Enter threshold value to analyze (micrometers): 20\n"
     ]
    }
   ],
   "source": [
    "## prompt user to ask for above/below the threshold\n",
    "while (True):\n",
    "    options = ['Max threshold: <', 'Min threshold: >']\n",
    "    for i in range(len(options)):\n",
    "        print(str(i+1) + \":\", options[i])\n",
    "    sign = int(input(\"Please enter a number (1 or 2) to choose comparison operator: \"))\n",
    "    if (sign in range(1,3)):\n",
    "        break\n",
    "    print(\"Invalid argument\")\n",
    "print('\\n')\n",
    "\n",
    "## prompt user to ask for which size parameter to analyze\n",
    "while (True):\n",
    "    options = ['maxFeretDiameter', 'minFeretDiameter', 'Area', 'Biovolume']\n",
    "    # Print out options\n",
    "    for i in range(len(options)):\n",
    "        print(str(i+1) + \":\", options[i])\n",
    "    param = int(input(\"Please enter a number (1-4) for the type analysis: \"))\n",
    "    if (param in range(1,5)):\n",
    "        param = str(options[param-1])\n",
    "        break\n",
    "    print(\"Invalid argument\")\n",
    "print('\\n')\n",
    "\n",
    "## prompt user to ask for desired size distribution, keep at 20 for now\n",
    "threshold = float(input('Enter threshold value to analyze (micrometers): '))"
   ]
  },
  {
   "cell_type": "markdown",
   "metadata": {},
   "source": [
    "### Matching code for the next 5 cells"
   ]
  },
  {
   "cell_type": "code",
   "execution_count": 337,
   "metadata": {},
   "outputs": [],
   "source": [
    "# get higher order data based on dataset\n",
    "if (dataset_type == 'automated'):\n",
    "    auto_taxon_info = pd.read_csv('../auto_join/resolved_auto.csv', \n",
    "                                  usecols=['name', 'resolved_names', 'resolved_higher_order_fromgnr', 'alt_datasource'])\n",
    "    # merge to get taxa data\n",
    "    sample_subset = pd.merge(sample_subset, auto_taxon_info, how='left', left_on='data_provider_category_MachineObservation', right_on='name')\n",
    "    # rename resolved_higher_order column to match\n",
    "    sample_subset.rename(columns={'resolved_higher_order_fromgnr':'higherClassification_group_automated'}, inplace=True)\n",
    "elif (dataset_type == 'manual'):\n",
    "    man_taxon_info = pd.read_csv('../auto_join/resolved_manual_matched_matchIDs_LOOKUPsorted.csv', \n",
    "                                  usecols=['name', 'resolved_names', 'alt_datasource'])\n",
    "    # merge to get taxa data\n",
    "    sample_subset = pd.merge(sample_subset, man_taxon_info, how='left', left_on='data_provider_category_HumanObservation', right_on='name')\n",
    "    sample_subset.rename(columns={'higherClassification_group':'higherClassification_group_manual'}, inplace=True)\n",
    "else:\n",
    "    auto_taxon_info = pd.read_csv('../auto_join/resolved_auto.csv', \n",
    "                                  usecols=['name', 'resolved_names', 'resolved_higher_order_fromgnr', 'alt_datasource'])\n",
    "    # merge to get taxa data\n",
    "    sample_subset = pd.merge(sample_subset, auto_taxon_info, how='left', left_on='data_provider_category_MachineObservation', right_on='name')\n",
    "    # rename resolved_higher_order column to match\n",
    "    sample_subset.rename(columns={'resolved_higher_order_fromgnr':'higherClassification_group_automated', \n",
    "                           'higherClassification_group':'higherClassification_group_manual'}, \n",
    "                   inplace=True)\n",
    "    man_taxon_info = pd.read_csv('../auto_join/resolved_manual_matched_matchIDs_LOOKUPsorted.csv', \n",
    "                                  usecols=['name', 'resolved_names'])\n",
    "    # merge to get taxa data\n",
    "    sample_subset = pd.concat([sample_subset, man_taxon_info], axis=1, sort=False)"
   ]
  },
  {
   "cell_type": "code",
   "execution_count": 338,
   "metadata": {},
   "outputs": [],
   "source": [
    "# separate out roi id from associatedMedia\n",
    "sample_subset['roi'] = sample_subset['associatedMedia']\n",
    "sample_subset.roi = sample_subset.roi.str.slice(68, 74)\n",
    "# gets rid of leading zeros\n",
    "sample_subset.roi = sample_subset.roi.str.lstrip(\"0\")\n",
    "# cut associatedMedia to just be associatedMedia of sample\n",
    "sample_subset.associatedMedia = sample_subset.associatedMedia.str.slice(0, 67)"
   ]
  },
  {
   "cell_type": "code",
   "execution_count": 339,
   "metadata": {},
   "outputs": [],
   "source": [
    "# read in gps coordinates file\n",
    "coords = pd.read_csv('geographic_subset.csv', usecols=['date','pid', 'gps_furuno_latitude', \n",
    "                                                       'gps_furuno_longitude'])\n",
    "# merge with sample_subset based on smaple ids\n",
    "sample_subset = pd.merge(sample_subset, coords, how='left', left_on='associatedMedia', right_on='pid')\n",
    "# get unique coordinates\n",
    "unique_coords = sample_subset.groupby(['gps_furuno_latitude', 'gps_furuno_longitude', 'date']).size().reset_index().rename(columns={0:'count'})"
   ]
  },
  {
   "cell_type": "code",
   "execution_count": 340,
   "metadata": {},
   "outputs": [],
   "source": [
    "# read in volume data\n",
    "volumes = pd.read_csv(\"../volume/volumes.csv\")\n",
    "# merge with samples\n",
    "volumes.rename(columns={'permalink': 'associatedMedia'}, inplace=True)\n",
    "sample_subset = pd.merge(sample_subset, volumes, how='left', on='associatedMedia')"
   ]
  },
  {
   "cell_type": "code",
   "execution_count": 341,
   "metadata": {},
   "outputs": [],
   "source": [
    "# first exclude abiotic particles\n",
    "sample_subset = sample_subset[sample_subset['alt_datasource'] != \"OCB\"]\n",
    "# calculate total biovolume per sample\n",
    "total = sample_subset.groupby('associatedMedia')['Biovolume'].sum().reset_index()\n",
    "total.rename(columns={'Biovolume':'total_biovolume'}, inplace=True)\n",
    "# merge 2 data frames based on sample_identifier\n",
    "sample_subset = pd.merge(sample_subset, total, how='left', on='associatedMedia')"
   ]
  },
  {
   "cell_type": "code",
   "execution_count": 342,
   "metadata": {},
   "outputs": [
    {
     "name": "stderr",
     "output_type": "stream",
     "text": [
      "/Users/Kathy/.local/lib/python3.7/site-packages/ipykernel_launcher.py:5: SettingWithCopyWarning: \n",
      "A value is trying to be set on a copy of a slice from a DataFrame\n",
      "\n",
      "See the caveats in the documentation: http://pandas.pydata.org/pandas-docs/stable/user_guide/indexing.html#returning-a-view-versus-a-copy\n",
      "  \"\"\"\n"
     ]
    }
   ],
   "source": [
    "# include NotApplicable categories as other\n",
    "if (dataset_type == 'manual'):\n",
    "    sample_subset.higherClassification_group_manual[sample_subset['higherClassification_group_manual'] == 'NotApplicable'] = 'other than diatoms dinoflagellates or haptophytes'\n",
    "elif (dataset_type == 'automated'):\n",
    "    sample_subset.higherClassification_group_automated[sample_subset['higherClassification_group_automated'] == 'NotApplicable'] = 'other than diatoms dinoflagellates or haptophytes'\n",
    "else:\n",
    "    sample_subset.loc[sample_subset['higherClassification_group_manual'] == 'NotApplicable', \n",
    "                ['higherClassification_group_manual', 'higherClassification_group_automated']] = 'other than diatoms dinoflagellates or haptophytes'"
   ]
  },
  {
   "cell_type": "code",
   "execution_count": 343,
   "metadata": {},
   "outputs": [],
   "source": [
    "# add variable for above or below threshold\n",
    "# add variable for choices of other size parameters (4 total)\n",
    "# filter out rows below threshold\n",
    "if (sign == 1):\n",
    "    sample_subset = sample_subset[sample_subset[param] < threshold]\n",
    "else:\n",
    "    sample_subset = sample_subset[sample_subset[param] > threshold]"
   ]
  },
  {
   "cell_type": "code",
   "execution_count": 344,
   "metadata": {},
   "outputs": [],
   "source": [
    "# group by sample identifiers and higher ranks to calculate total biovolume per ranking\n",
    "if (dataset_type == 'both'):\n",
    "    # need 2 data frames for both\n",
    "    auto_samples = sample_subset.groupby(\n",
    "        ['associatedMedia', 'higherClassification_group_automated'.format(dataset_type)]).agg(\n",
    "        {\n",
    "            'Biovolume': 'sum',\n",
    "            'gps_furuno_latitude': 'first',\n",
    "            'total_biovolume': 'first',\n",
    "            'volume_imaged': 'first'\n",
    "        }\n",
    "    ).reset_index()\n",
    "    # calculate percent biovolume\n",
    "    auto_samples['percent_biovolume'] = auto_samples['Biovolume']/auto_samples['total_biovolume']\n",
    "\n",
    "    # manual data frame\n",
    "    manual_samples = sample_subset.groupby(\n",
    "        ['associatedMedia', 'higherClassification_group_manual'.format(dataset_type)]).agg(\n",
    "        {\n",
    "            'Biovolume': 'sum',\n",
    "            'gps_furuno_latitude': 'first',\n",
    "            'total_biovolume': 'first',\n",
    "            'volume_imaged': 'first'\n",
    "        }\n",
    "    ).reset_index()\n",
    "    # calculate percent biovolume\n",
    "    manual_samples['percent_biovolume'] = manual_samples['Biovolume']/manual_samples['total_biovolume']\n",
    "else:\n",
    "    sample_subset = sample_subset.groupby(\n",
    "        ['associatedMedia', 'higherClassification_group_{}'.format(dataset_type)]).agg(\n",
    "        {\n",
    "            'Biovolume': 'sum',\n",
    "            'gps_furuno_latitude': 'first',\n",
    "            'total_biovolume': 'first',\n",
    "            'date': 'first',\n",
    "            'volume_imaged': 'first'\n",
    "        }\n",
    "    ).reset_index()\n",
    "    # calculate percent biovolume\n",
    "    sample_subset['percent_biovolume'] = sample_subset['Biovolume']/sample_subset['total_biovolume']"
   ]
  },
  {
   "cell_type": "code",
   "execution_count": 345,
   "metadata": {},
   "outputs": [],
   "source": [
    "# calculate concentration from abundance and volume\n",
    "if (dataset_type == 'both'):\n",
    "    # calculate concentration for automated classifications\n",
    "    auto_samples['concentration'] = auto_samples.Biovolume/auto_samples.volume_imaged\n",
    "    # convert to float\n",
    "    auto_samples.concentration = auto_samples.concentration.astype(float)\n",
    "    # calculate concentrations for manual classifications\n",
    "    manual_samples['concentration'] = manual_samples.Biovolume/manual_samples.volume_imaged\n",
    "    # convert to float\n",
    "    manual_samples.concentration = manual_samples.concentration.astype(float)\n",
    "else:\n",
    "    sample_subset['concentration'] = sample_subset.Biovolume.astype(float)/sample_subset.volume_imaged.astype(float)\n",
    "    # convert to float\n",
    "    sample_subset.concentration = sample_subset.concentration.astype(float)"
   ]
  },
  {
   "cell_type": "markdown",
   "metadata": {},
   "source": [
    "### Matching code for next 2 cells"
   ]
  },
  {
   "cell_type": "code",
   "execution_count": 346,
   "metadata": {},
   "outputs": [],
   "source": [
    "# filter out to only read user specified analysis_type\n",
    "if (dataset_type == 'both'):\n",
    "    if (analysis_type == \"All but other\"):\n",
    "        analysis_type = 'other than diatoms dinoflagellates or haptophytes'\n",
    "        auto_samples = auto_samples[auto_samples['higherClassification_group_automated'] != analysis_type].reset_index()\n",
    "        manual_samples = manual_samples[manual_samples['higherClassification_group_manual'] != analysis_type].reset_index()\n",
    "    elif (analysis_type != 'All'):\n",
    "        auto_samples = auto_samples[auto_samples['higherClassification_group_automated'] == analysis_type].reset_index()\n",
    "        manual_samples = manual_samples[manual_samples['higherClassification_group_manual'] == analysis_type].reset_index()\n",
    "else:\n",
    "    if (analysis_type == \"All but other\"):\n",
    "        analysis_type = 'other than diatoms dinoflagellates or haptophytes'\n",
    "        sample_subset = sample_subset[sample_subset['higherClassification_group_{}'.format(dataset_type)] != analysis_type].reset_index()\n",
    "    elif (analysis_type != 'All'):\n",
    "        sample_subset = sample_subset[sample_subset['higherClassification_group_{}'.format(dataset_type)] == analysis_type].reset_index()"
   ]
  },
  {
   "cell_type": "code",
   "execution_count": 347,
   "metadata": {},
   "outputs": [
    {
     "name": "stderr",
     "output_type": "stream",
     "text": [
      "/Users/Kathy/.local/lib/python3.7/site-packages/ipykernel_launcher.py:17: SettingWithCopyWarning: \n",
      "A value is trying to be set on a copy of a slice from a DataFrame\n",
      "\n",
      "See the caveats in the documentation: http://pandas.pydata.org/pandas-docs/stable/user_guide/indexing.html#returning-a-view-versus-a-copy\n",
      "/Users/Kathy/.local/lib/python3.7/site-packages/ipykernel_launcher.py:18: SettingWithCopyWarning: \n",
      "A value is trying to be set on a copy of a slice from a DataFrame\n",
      "\n",
      "See the caveats in the documentation: http://pandas.pydata.org/pandas-docs/stable/user_guide/indexing.html#returning-a-view-versus-a-copy\n",
      "/Users/Kathy/.local/lib/python3.7/site-packages/ipykernel_launcher.py:19: SettingWithCopyWarning: \n",
      "A value is trying to be set on a copy of a slice from a DataFrame\n",
      "\n",
      "See the caveats in the documentation: http://pandas.pydata.org/pandas-docs/stable/user_guide/indexing.html#returning-a-view-versus-a-copy\n"
     ]
    }
   ],
   "source": [
    "# pad with zeros if doesn't exist\n",
    "if (dataset_type == 'both'):\n",
    "    auto_samples = auto_samples.merge(unique_coords, how='right').reset_index()\n",
    "    auto_samples.higherClassification_group_automated = analysis_type\n",
    "    auto_samples.concentration[auto_samples.concentration.isna()] = 0\n",
    "    manual_samples = manual_samples.merge(unique_coords, how='right').reset_index()\n",
    "    manual_samples.higherClassification_group_manual = analysis_type\n",
    "    manual_samples.concentration[manual_samples.concentration.isna()] = 0\n",
    "    # get rid of these guys in manual- FAKE ZEROS\n",
    "    remove = list(only_auto.gps_furuno_latitude)\n",
    "    manual_samples = manual_samples[~manual_samples['gps_furuno_latitude'].isin(remove)]\n",
    "# here for auto/manual only \n",
    "else:\n",
    "    # put stuff here\n",
    "    sample_subset = sample_subset.merge(unique_coords, how='right')\n",
    "    sample_subset.higherClassification_group_automated = analysis_type\n",
    "    sample_subset.percent_biovolume[sample_subset.percent_biovolume.isna()] = 0\n",
    "    sample_subset.total_biovolume[sample_subset.total_biovolume.isna()] = 0\n",
    "    sample_subset.concentration[sample_subset.concentration.isna()] = 0\n",
    "    # reset dates to be datetime objects\n",
    "    sample_subset['date'] = sample_subset['date'].apply(lambda x: datetime.strptime(x, '%Y-%m-%d %H:%M:00+00:00'))\n",
    "    sample_subset = sample_subset.sort_values(by='date',ascending=True).reset_index()"
   ]
  },
  {
   "cell_type": "code",
   "execution_count": 304,
   "metadata": {},
   "outputs": [],
   "source": [
    "# change to analyis_type string with size parameter string\n",
    "sample_subset.to_csv(f\"autobio_{analysis_type}_{param}_{threshold}.csv\")"
   ]
  },
  {
   "cell_type": "code",
   "execution_count": 348,
   "metadata": {},
   "outputs": [
    {
     "name": "stdout",
     "output_type": "stream",
     "text": [
      "conc min:  6690.6679385234465\n",
      "conc max:  482170.48640327156\n",
      "percent min:  0.012404763384974302\n",
      "percent max:  0.4855248785246902\n"
     ]
    }
   ],
   "source": [
    "print(\"conc min: \", np.min(sample_subset.concentration))\n",
    "print(\"conc max: \", np.max(sample_subset.concentration))\n",
    "print(\"percent min: \", np.min(sample_subset.percent_biovolume))\n",
    "print(\"percent max: \", np.max(sample_subset.percent_biovolume))"
   ]
  },
  {
   "cell_type": "code",
   "execution_count": 328,
   "metadata": {},
   "outputs": [],
   "source": [
    "# # take duplicate latitudes and add their concentrations together to make percent biovolume plot\n",
    "# fig, ax = plt.subplots(figsize=(20, 10))   \n",
    "# # use unstack()\n",
    "# if (dataset_type == 'both'): \n",
    "#     rois = auto_samples.groupby(['gps_furuno_latitude','higherClassification_group_automated']).sum()['percent_biovolume']\n",
    "#     rois.unstack().plot(ax=ax, marker='o')\n",
    "#     rois = manual_samples.groupby(['gps_furuno_latitude','higherClassification_group_manual']).sum()['percent_biovolume']\n",
    "#     rois.unstack().plot(ax=ax, marker='o')\n",
    "#     L=plt.legend(title=analysis_type)\n",
    "#     if (analysis_type != 'All'):\n",
    "#         L.get_texts()[0].set_text('automated')\n",
    "#         L.get_texts()[1].set_text('manual')\n",
    "# else:\n",
    "#     rois = sample_subset.groupby(['gps_furuno_latitude','higherClassification_group_{}'.format(dataset_type)]).sum()['percent_biovolume']\n",
    "#     rois.unstack().plot(ax=ax, marker='o')\n",
    "# # add titles and axes labels\n",
    "# plt.xlabel('LTER Stations Latitudes', size=20)\n",
    "# plt.ylabel('% Biovolume in targets with Major Axis Length > {} micrometers '.format(threshold), size=20)\n",
    "# plt.title('Percent Biovolume along Transect ({} classifications)'.format(dataset_type), size=30)\n",
    "# ax.tick_params(axis='both', which='major', labelsize=20)\n",
    "# plt.grid(True)\n",
    "# # set stations as tick marks\n",
    "# ax.set_xticks([41.1967, 41.03, 40.8633, 40.6967, 40.5133, 40.3633, 40.2267, 40.1367, 40.0983, 39.94, 39.7733])\n",
    "# # invert x axis\n",
    "# ax.invert_xaxis()\n",
    "# ax.legend(title=None)\n",
    "# fig1 = plt.gcf()\n",
    "# plt.show()"
   ]
  },
  {
   "cell_type": "code",
   "execution_count": 349,
   "metadata": {
    "scrolled": false
   },
   "outputs": [
    {
     "name": "stderr",
     "output_type": "stream",
     "text": [
      "No handles with labels found to put in legend.\n"
     ]
    },
    {
     "data": {
      "image/png": "[encoded data removed]",
      "text/plain": [
       "<Figure size 1440x720 with 2 Axes>"
      ]
     },
     "metadata": {
      "needs_background": "light"
     },
     "output_type": "display_data"
    }
   ],
   "source": [
    "# take duplicate latitudes and add their concentrations together\n",
    "fig, ax = plt.subplots(figsize=(20, 10))\n",
    "# use unstack()\n",
    "if (dataset_type == 'both'): \n",
    "    rois = auto_samples.groupby(['gps_furuno_latitude','higherClassification_group_automated']).sum()['concentration']\n",
    "    rois.unstack().plot(ax=ax, marker='o')\n",
    "    rois = manual_samples.groupby(['gps_furuno_latitude','higherClassification_group_manual']).sum()['concentration']\n",
    "    rois.unstack().plot(ax=ax, marker='o')\n",
    "    L=plt.legend(title=None, prop={\"size\":20, \"family\": \"Times New Roman\"})\n",
    "    if (analysis_type != 'All'):\n",
    "        L.get_texts()[0].set_text('automated')\n",
    "        L.get_texts()[1].set_text('manual')\n",
    "else:\n",
    "    rois = sample_subset.groupby(['gps_furuno_latitude','higherClassification_group_{}'.format(dataset_type)]).sum()['concentration']\n",
    "#     rois.unstack().reset_index().plot.scatter(x='gps_furuno_latitude', y='Bacillariophyceae', \n",
    "#                                               ax=ax, marker='o', c=sample_subset.date, \n",
    "#                                              cmap='viridis', s=100).grid(axis='x')\n",
    "    sample_subset.plot.scatter(x='gps_furuno_latitude', y='concentration', \n",
    "                          ax=ax, marker='o', c=sample_subset.date, \n",
    "                          cmap='gray', edgecolors='black', s=100).grid(axis='x')\n",
    "    # set color bar\n",
    "    cb = ax.collections[-1].colorbar\n",
    "    # stupid stupid color bar, sort indices first\n",
    "    indices = [sample_subset.date[i] for i in np.linspace(0,sample_subset.shape[0]-1,7).astype(int)]\n",
    "    cb.ax.set_yticklabels([index.strftime('%Y-%m-%d, %H:00 EST') for index in indices])\n",
    "    cb.ax.tick_params(labelsize=20)\n",
    "    # set stupid font\n",
    "    for l in cb.ax.yaxis.get_ticklabels():\n",
    "        l.set_family(\"Times New Roman\")\n",
    "# add titles and axes labels\n",
    "plt.xlabel('LTER Stations Latitudes', size=30, fontname=\"Times New Roman\")\n",
    "plt.ylabel(' ')\n",
    "#plt.ylabel('Biovolume in targets with Max Feret Diameter > {} micrometers'.format(threshold), size = 25, fontname=\"Times New Roman\")\n",
    "plt.title(analysis_type, size = 40, fontname=\"Times New Roman\")\n",
    "# set stations as tick marks\n",
    "# set stations as tick marks\n",
    "labels=[41.1967, 41.03, 40.8633, 40.6967, 40.5133, 40.3633, 40.2267, 40.0983, 39.94, 39.7733]\n",
    "ax.set_xticks(labels)\n",
    "ax.tick_params(axis='both', which='major', labelsize=25)\n",
    "# set y axis as scientific notation\n",
    "ax.set_ylim(0, np.max(rois))\n",
    "plt.ticklabel_format(axis=\"y\", style=\"sci\", scilimits=(0,0))\n",
    "ax.yaxis.get_offset_text().set_fontsize(25)\n",
    "ax.yaxis.get_offset_text().set_fontname(\"Times New Roman\")\n",
    "ax.yaxis.major.formatter._useMathText=True\n",
    "# set tick marks font\n",
    "for tick in ax.get_xticklabels():\n",
    "    tick.set_fontname(\"Times New Roman\")\n",
    "for tick in ax.get_yticklabels():\n",
    "    tick.set_fontname(\"Times New Roman\")\n",
    "# invert x axis\n",
    "ax.invert_xaxis()\n",
    "ax.legend(title=None, prop={\"size\":20, \"family\": \"Times New Roman\"})\n",
    "ax.get_legend().remove()\n",
    "fig2 = plt.gcf()\n",
    "plt.show()"
   ]
  },
  {
   "cell_type": "code",
   "execution_count": 308,
   "metadata": {},
   "outputs": [
    {
     "name": "stdout",
     "output_type": "stream",
     "text": [
      "Save output? (y/n): y\n"
     ]
    }
   ],
   "source": [
    "# Ask user if want to save graphs\n",
    "while (True):\n",
    "    reply = str(input('Save output? (y/n): ')).lower().strip()\n",
    "    if reply[0] == 'y':\n",
    "        #fig1.savefig('percent_biovolume.png', bbox_inches='tight')\n",
    "        fig2.savefig(f'{analysis_type}_biovolume_concentration.png', bbox_inches='tight')\n",
    "        break\n",
    "    if reply[0] == 'n':\n",
    "        break\n",
    "    else:\n",
    "        print(\"Please enter y/n\")"
   ]
  }
 ],
 "metadata": {
  "kernelspec": {
   "display_name": "Python 3.7.3 64-bit ('ifcb-edi': conda)",
   "language": "python",
   "name": "python37364bitifcbediconda0d584b60047b44e88276f7a3baa206c4"
  },
  "language_info": {
   "codemirror_mode": {
    "name": "ipython",
    "version": 3
   },
   "file_extension": ".py",
   "mimetype": "text/x-python",
   "name": "python",
   "nbconvert_exporter": "python",
   "pygments_lexer": "ipython3",
   "version": "3.7.3"
  }
 },
 "nbformat": 4,
 "nbformat_minor": 2
}
