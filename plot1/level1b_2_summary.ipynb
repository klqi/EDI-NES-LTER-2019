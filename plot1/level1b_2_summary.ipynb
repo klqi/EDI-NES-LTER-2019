{
 "cells": [
  {
   "cell_type": "code",
   "execution_count": 14,
   "metadata": {},
   "outputs": [],
   "source": [
    "# constructs level2 summary file from level 1b file using manual ifcb data\n",
    "# requires: level_1b.csv, resolved_manual.csv, volumes.csv, geographic_subset.csv\n",
    "import pandas as pd\n",
    "import numpy as np"
   ]
  },
  {
   "cell_type": "code",
   "execution_count": 42,
   "metadata": {},
   "outputs": [],
   "source": [
    "# read in level 1b file\n",
    "columns = ['associatedMedia', 'data_provider_category_HumanObservation', \n",
    "               'higherClassification_group', 'scientificName_HumanObservation',\n",
    "               'scientificNameID_HumanObservation', 'Biovolume']\n",
    "# initialize data frame from input\n",
    "samples = pd.read_csv(\"../auto_join/level_1b_manual.csv\", usecols=columns)"
   ]
  },
  {
   "cell_type": "code",
   "execution_count": 43,
   "metadata": {},
   "outputs": [],
   "source": [
    "# read in taxonomic information\n",
    "man_taxon_info = pd.read_csv('../auto_join/resolved_manual_matched_matchIDs_LOOKUPsorted.csv', \n",
    "                              usecols=['name', 'resolved_names', 'alt_datasource'])\n",
    "# merge to get taxa data\n",
    "samples = pd.merge(samples, man_taxon_info, how='left', left_on='data_provider_category_HumanObservation', right_on='name')\n",
    "samples.rename(columns={'higherClassification_group':'higherClassification_group_manual'}, inplace=True)"
   ]
  },
  {
   "cell_type": "code",
   "execution_count": 44,
   "metadata": {},
   "outputs": [],
   "source": [
    "# separate out roi id from associatedMedia\n",
    "samples['roi'] = samples['associatedMedia']\n",
    "samples.roi = samples.roi.str.slice(68, 74)\n",
    "# gets rid of leading zeros\n",
    "samples.roi = samples.roi.str.lstrip(\"0\")\n",
    "# cut associatedMedia to just be associatedMedia of sample\n",
    "samples.associatedMedia = samples.associatedMedia.str.slice(0, 67)"
   ]
  },
  {
   "cell_type": "code",
   "execution_count": 45,
   "metadata": {},
   "outputs": [],
   "source": [
    "# read in volume data\n",
    "volumes = pd.read_csv(\"volumes.csv\")\n",
    "# merge with samples\n",
    "volumes.rename(columns={'permalink': 'associatedMedia'}, inplace=True)\n",
    "samples = pd.merge(samples, volumes, how='left', on='associatedMedia')"
   ]
  },
  {
   "cell_type": "code",
   "execution_count": 48,
   "metadata": {},
   "outputs": [],
   "source": [
    "# read in geolocation data\n",
    "geo_data = pd.read_csv(\"geographic_subset.csv\", usecols=['gps_furuno_latitude', 'gps_furuno_longitude', \n",
    "                                                         'date', 'pid'])\n",
    "# geo_data.pid = geo_data.pid + '.html'\n",
    "samples = pd.merge(samples, geo_data, how='left', left_on='associatedMedia', right_on='pid')"
   ]
  },
  {
   "cell_type": "code",
   "execution_count": 53,
   "metadata": {},
   "outputs": [],
   "source": [
    "# append .html to associatedMedia\n",
    "samples['associatedMedia'] = samples['associatedMedia'] + '.html'"
   ]
  },
  {
   "cell_type": "code",
   "execution_count": 54,
   "metadata": {},
   "outputs": [],
   "source": [
    "# make level_2 summary file from manual data \n",
    "level_2 = samples\n",
    "level_2 = level_2.groupby(['associatedMedia', 'data_provider_category_HumanObservation']).agg(\n",
    "    {\n",
    "        'scientificName_HumanObservation': 'first',\n",
    "        'scientificNameID_HumanObservation': 'first',\n",
    "        'higherClassification_group_manual': 'first',\n",
    "        'roi': 'count',\n",
    "        'Biovolume': 'sum',\n",
    "        'volume_imaged': 'first',\n",
    "        'date': 'first',\n",
    "        'gps_furuno_latitude': 'first',\n",
    "        'gps_furuno_longitude': 'first'\n",
    "    }\n",
    ").reset_index()\n",
    "# rename roi to be abundance\n",
    "level_2.rename(columns={'roi': 'Abundance'}, inplace=True)"
   ]
  },
  {
   "cell_type": "code",
   "execution_count": 56,
   "metadata": {},
   "outputs": [],
   "source": [
    "# save output to csv file\n",
    "level_2.to_csv('level_2_manual.csv', index=None, header=True)"
   ]
  }
 ],
 "metadata": {
  "kernelspec": {
   "display_name": "Python 3.7.3 64-bit ('ifcb-edi': conda)",
   "language": "python",
   "name": "python37364bitifcbediconda0d584b60047b44e88276f7a3baa206c4"
  },
  "language_info": {
   "codemirror_mode": {
    "name": "ipython",
    "version": 3
   },
   "file_extension": ".py",
   "mimetype": "text/x-python",
   "name": "python",
   "nbconvert_exporter": "python",
   "pygments_lexer": "ipython3",
   "version": "3.7.3"
  }
 },
 "nbformat": 4,
 "nbformat_minor": 2
}
