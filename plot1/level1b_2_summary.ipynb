{
 "cells": [
  {
   "cell_type": "code",
   "execution_count": 1,
   "metadata": {},
   "outputs": [],
   "source": [
    "# constructs level2 summary file from level 1b file using manual ifcb data\n",
    "# requires: level_1b.csv, resolved_manual.csv, volumes.csv, geographic_subset.csv\n",
    "import pandas as pd\n",
    "import numpy as np"
   ]
  },
  {
   "cell_type": "code",
   "execution_count": 2,
   "metadata": {},
   "outputs": [
    {
     "name": "stderr",
     "output_type": "stream",
     "text": [
      "/Users/Kathy/.local/lib/python3.7/site-packages/IPython/core/interactiveshell.py:3058: DtypeWarning: Columns (3,5) have mixed types. Specify dtype option on import or set low_memory=False.\n",
      "  interactivity=interactivity, compiler=compiler, result=result)\n"
     ]
    }
   ],
   "source": [
    "# read in level 1b file\n",
    "columns = ['permalink', 'namespace_manual', 'worms_higher_order_manual', 'identification_manual', 'Biovolume']\n",
    "# initialize data frame from input\n",
    "samples = pd.read_csv(\"level_1b.csv\", usecols=columns)"
   ]
  },
  {
   "cell_type": "code",
   "execution_count": 3,
   "metadata": {},
   "outputs": [],
   "source": [
    "# read in taxonomic information\n",
    "man_taxon_info = pd.read_csv('resolved_manual.csv', \n",
    "                                usecols=['name', 'resolved_names', 'alt_datasource'])\n",
    "# merge to get taxa data\n",
    "samples = pd.merge(samples, man_taxon_info, how='left', left_on='namespace_manual', right_on='name')"
   ]
  },
  {
   "cell_type": "code",
   "execution_count": 4,
   "metadata": {},
   "outputs": [],
   "source": [
    "# separate out roi id from permalink\n",
    "samples['roi'] = samples['permalink']\n",
    "samples.roi = samples.roi.str.slice(68, 74)\n",
    "# gets rid of leading zeros\n",
    "samples.roi = samples.roi.str.lstrip(\"0\")\n",
    "# cut permalink to just be permalink of sample\n",
    "samples.permalink = samples.permalink.str.slice(0, 67)"
   ]
  },
  {
   "cell_type": "code",
   "execution_count": 5,
   "metadata": {},
   "outputs": [],
   "source": [
    "# read in volume data\n",
    "volumes = pd.read_csv(\"volumes.csv\")\n",
    "# merge with samples\n",
    "samples = pd.merge(samples, volumes, how='left', on='permalink')"
   ]
  },
  {
   "cell_type": "code",
   "execution_count": 6,
   "metadata": {},
   "outputs": [],
   "source": [
    "# read in geolocation data\n",
    "geo_data = pd.read_csv(\"geographic_subset.csv\", usecols=['gps_furuno_latitude', 'gps_furuno_longitude', \n",
    "                                                         'date', 'pid'])\n",
    "samples = pd.merge(samples, geo_data, how='left', left_on='permalink', right_on='pid')"
   ]
  },
  {
   "cell_type": "code",
   "execution_count": 7,
   "metadata": {},
   "outputs": [],
   "source": [
    "# group samples into summary format\n",
    "level_2 = samples\n",
    "level_2 = level_2.groupby(['permalink', 'namespace_manual']).agg(\n",
    "    {\n",
    "        'identification_manual': 'first',\n",
    "        'worms_higher_order_manual': 'first',\n",
    "        'roi': 'count',\n",
    "        'Biovolume': 'sum',\n",
    "        'volume_imaged': 'first',\n",
    "        'date': 'first',\n",
    "        'gps_furuno_latitude': 'first',\n",
    "        'gps_furuno_longitude': 'first'\n",
    "    }\n",
    ").reset_index()\n",
    "# rename roi to be abundance\n",
    "level_2.rename(columns={'roi': 'Abundance'}, inplace=True)"
   ]
  },
  {
   "cell_type": "code",
   "execution_count": 10,
   "metadata": {},
   "outputs": [],
   "source": [
    "# save output to csv file\n",
    "level_2.to_csv('level_2.csv', index=None, header=True)"
   ]
  }
 ],
 "metadata": {
  "kernelspec": {
   "display_name": "Python [conda env:ifcb-edi]",
   "language": "python",
   "name": "conda-env-ifcb-edi-py"
  },
  "language_info": {
   "codemirror_mode": {
    "name": "ipython",
    "version": 3
   },
   "file_extension": ".py",
   "mimetype": "text/x-python",
   "name": "python",
   "nbconvert_exporter": "python",
   "pygments_lexer": "ipython3",
   "version": "3.7.3"
  }
 },
 "nbformat": 4,
 "nbformat_minor": 2
}
