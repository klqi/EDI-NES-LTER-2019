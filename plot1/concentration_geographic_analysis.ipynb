{
 "cells": [
  {
   "cell_type": "code",
   "execution_count": 66,
   "metadata": {},
   "outputs": [],
   "source": [
    "import matplotlib.pyplot as plt\n",
    "import pandas as pd\n",
    "import numpy as np"
   ]
  },
  {
   "cell_type": "code",
   "execution_count": 67,
   "metadata": {},
   "outputs": [],
   "source": [
    "# initialize data frame from input\n",
    "samples = pd.read_csv(\"long_transect.csv\")\n",
    "# calculate concentration from abundance and volume\n",
    "samples['concentration'] = samples.Abundance/samples.volume_imaged\n",
    "# convert to float\n",
    "samples.concentration = samples.concentration.astype(float)"
   ]
  },
  {
   "cell_type": "code",
   "execution_count": null,
   "metadata": {},
   "outputs": [],
   "source": [
    "# take duplicate latitudes and add their concentrations together\n",
    "fig, ax = plt.subplots(figsize=(15,7))\n",
    "# use unstack()\n",
    "grouped = samples.groupby(['gps_furuno_latitude','use_higher_rank']).count()['concentration']\n",
    "grouped.unstack().plot(ax=ax)\n",
    "# add titles and axes labels\n",
    "plt.xlabel('LTER Stations')\n",
    "plt.ylabel('Concentration (#/mL)')\n",
    "plt.title('MVCO Phytoplankton Concentrations')\n",
    "plt.grid(True)\n",
    "# set stations as tick marks\n",
    "ax.set_xticks([41.1967, 41.03, 40.8633, 40.6967, 40.5133, 40.3633, 40.2267, 40.1367, 40.0983, 39.94, 39.7733])\n",
    "ax.set_xticklabels(np.arange(1,12))\n",
    "# set comments\n",
    "ax.text(41.1967, -5, \"Coast\", size = 15, ha = 'center')\n",
    "ax.text(39.7733, -5, \"Offshore\", size = 15, ha = 'center')\n",
    "# invert x axis\n",
    "ax.invert_xaxis()\n",
    "plt.show()"
   ]
  },
  {
   "cell_type": "code",
   "execution_count": 109,
   "metadata": {},
   "outputs": [
    {
     "data": {
      "text/plain": [
       "'[11 12 13 14 15 16]'"
      ]
     },
     "execution_count": 109,
     "metadata": {},
     "output_type": "execute_result"
    }
   ],
   "source": [
    "str(np.arange(11, 17, 1))"
   ]
  }
 ],
 "metadata": {
  "kernelspec": {
   "display_name": "Python 3",
   "language": "python",
   "name": "python3"
  },
  "language_info": {
   "codemirror_mode": {
    "name": "ipython",
    "version": 3
   },
   "file_extension": ".py",
   "mimetype": "text/x-python",
   "name": "python",
   "nbconvert_exporter": "python",
   "pygments_lexer": "ipython3",
   "version": "3.6.5"
  }
 },
 "nbformat": 4,
 "nbformat_minor": 2
}
